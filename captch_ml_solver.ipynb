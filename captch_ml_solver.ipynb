{
  "nbformat": 4,
  "nbformat_minor": 0,
  "metadata": {
    "colab": {
      "name": "captch-ml-solver.ipynb",
      "version": "0.3.2",
      "provenance": [],
      "collapsed_sections": [],
      "include_colab_link": true
    },
    "kernelspec": {
      "name": "python3",
      "display_name": "Python 3"
    },
    "accelerator": "GPU"
  },
  "cells": [
    {
      "cell_type": "markdown",
      "metadata": {
        "id": "view-in-github",
        "colab_type": "text"
      },
      "source": [
        "<a href=\"https://colab.research.google.com/github/Neumi/colab-ml-reverse-captcha/blob/master/captch_ml_solver.ipynb\" target=\"_parent\"><img src=\"https://colab.research.google.com/assets/colab-badge.svg\" alt=\"Open In Colab\"/></a>"
      ]
    },
    {
      "metadata": {
        "id": "rOLbt7D2BF1y",
        "colab_type": "code",
        "outputId": "70f34ca2-3ee9-474b-cf0a-6e8c6daa399c",
        "colab": {
          "base_uri": "https://localhost:8080/",
          "height": 326
        }
      },
      "cell_type": "code",
      "source": [
        "!pip3 install claptcha\n",
        "!pip3 install image_slicer"
      ],
      "execution_count": 1,
      "outputs": [
        {
          "output_type": "stream",
          "text": [
            "Collecting claptcha\n",
            "  Downloading https://files.pythonhosted.org/packages/5c/87/1464bcc3257bc4e9acbd48346366e3f00f7b4f688843799b2841a9b92332/claptcha-0.3.3-py3-none-any.whl\n",
            "Requirement already satisfied: Pillow in /usr/local/lib/python3.6/dist-packages (from claptcha) (4.3.0)\n",
            "Requirement already satisfied: olefile in /usr/local/lib/python3.6/dist-packages (from Pillow->claptcha) (0.46)\n",
            "Installing collected packages: claptcha\n",
            "Successfully installed claptcha-0.3.3\n",
            "Collecting image_slicer\n",
            "\u001b[?25l  Downloading https://files.pythonhosted.org/packages/8b/95/7b99cafa4be846f270c515cbeb090dd8a7425e4491b46c4342ad66f750f5/image_slicer-0.2.0.tar.gz (88kB)\n",
            "\u001b[K    100% |████████████████████████████████| 92kB 2.8MB/s \n",
            "\u001b[?25hRequirement already satisfied: Pillow>=4.0.0 in /usr/local/lib/python3.6/dist-packages (from image_slicer) (4.3.0)\n",
            "Requirement already satisfied: olefile in /usr/local/lib/python3.6/dist-packages (from Pillow>=4.0.0->image_slicer) (0.46)\n",
            "Building wheels for collected packages: image-slicer\n",
            "  Building wheel for image-slicer (setup.py) ... \u001b[?25ldone\n",
            "\u001b[?25h  Stored in directory: /root/.cache/pip/wheels/9b/d5/17/dd822b462a190ec86ad9fd43b455627a2265bb2dfa58af3841\n",
            "Successfully built image-slicer\n",
            "Installing collected packages: image-slicer\n",
            "Successfully installed image-slicer-0.2.0\n"
          ],
          "name": "stdout"
        }
      ]
    },
    {
      "metadata": {
        "id": "9jqN1g0rWvb9",
        "colab_type": "code",
        "outputId": "03c2dc43-2bce-412a-d3d2-0b567565d666",
        "colab": {
          "base_uri": "https://localhost:8080/",
          "height": 1057
        }
      },
      "cell_type": "code",
      "source": [
        "!curl -s https://course.fast.ai/setup/colab | bash\n",
        "!pip install git+https://github.com/fastai/fastai.git\n",
        "!curl -LJO https://raw.githubusercontent.com/lepture/captcha/master/captcha/data/DroidSansMono.ttf"
      ],
      "execution_count": 2,
      "outputs": [
        {
          "output_type": "stream",
          "text": [
            "Updating fastai...\n",
            "Done.\n",
            "Collecting git+https://github.com/fastai/fastai.git\n",
            "  Cloning https://github.com/fastai/fastai.git to /tmp/pip-req-build-cct33rfa\n",
            "Requirement already satisfied: bottleneck in /usr/local/lib/python3.6/dist-packages (from fastai==1.0.52.dev0) (1.2.1)\n",
            "Requirement already satisfied: fastprogress>=0.1.19 in /usr/local/lib/python3.6/dist-packages (from fastai==1.0.52.dev0) (0.1.21)\n",
            "Requirement already satisfied: beautifulsoup4 in /usr/local/lib/python3.6/dist-packages (from fastai==1.0.52.dev0) (4.6.3)\n",
            "Requirement already satisfied: matplotlib in /usr/local/lib/python3.6/dist-packages (from fastai==1.0.52.dev0) (3.0.3)\n",
            "Requirement already satisfied: numexpr in /usr/local/lib/python3.6/dist-packages (from fastai==1.0.52.dev0) (2.6.9)\n",
            "Requirement already satisfied: numpy>=1.15 in /usr/local/lib/python3.6/dist-packages (from fastai==1.0.52.dev0) (1.16.3)\n",
            "Requirement already satisfied: nvidia-ml-py3 in /usr/local/lib/python3.6/dist-packages (from fastai==1.0.52.dev0) (7.352.0)\n",
            "Requirement already satisfied: pandas in /usr/local/lib/python3.6/dist-packages (from fastai==1.0.52.dev0) (0.24.2)\n",
            "Requirement already satisfied: packaging in /usr/local/lib/python3.6/dist-packages (from fastai==1.0.52.dev0) (19.0)\n",
            "Requirement already satisfied: Pillow in /usr/local/lib/python3.6/dist-packages (from fastai==1.0.52.dev0) (4.3.0)\n",
            "Requirement already satisfied: pyyaml in /usr/local/lib/python3.6/dist-packages (from fastai==1.0.52.dev0) (3.13)\n",
            "Requirement already satisfied: requests in /usr/local/lib/python3.6/dist-packages (from fastai==1.0.52.dev0) (2.21.0)\n",
            "Requirement already satisfied: scipy in /usr/local/lib/python3.6/dist-packages (from fastai==1.0.52.dev0) (1.2.1)\n",
            "Requirement already satisfied: torch>=1.0.0 in /usr/local/lib/python3.6/dist-packages (from fastai==1.0.52.dev0) (1.0.1.post2)\n",
            "Requirement already satisfied: typing in /usr/local/lib/python3.6/dist-packages (from fastai==1.0.52.dev0) (3.6.6)\n",
            "Requirement already satisfied: spacy>=2.0.18 in /usr/local/lib/python3.6/dist-packages (from fastai==1.0.52.dev0) (2.0.18)\n",
            "Requirement already satisfied: torchvision in /usr/local/lib/python3.6/dist-packages (from fastai==1.0.52.dev0) (0.2.2.post3)\n",
            "Requirement already satisfied: dataclasses in /usr/local/lib/python3.6/dist-packages (from fastai==1.0.52.dev0) (0.6)\n",
            "Requirement already satisfied: cycler>=0.10 in /usr/local/lib/python3.6/dist-packages (from matplotlib->fastai==1.0.52.dev0) (0.10.0)\n",
            "Requirement already satisfied: python-dateutil>=2.1 in /usr/local/lib/python3.6/dist-packages (from matplotlib->fastai==1.0.52.dev0) (2.5.3)\n",
            "Requirement already satisfied: kiwisolver>=1.0.1 in /usr/local/lib/python3.6/dist-packages (from matplotlib->fastai==1.0.52.dev0) (1.0.1)\n",
            "Requirement already satisfied: pyparsing!=2.0.4,!=2.1.2,!=2.1.6,>=2.0.1 in /usr/local/lib/python3.6/dist-packages (from matplotlib->fastai==1.0.52.dev0) (2.4.0)\n",
            "Requirement already satisfied: pytz>=2011k in /usr/local/lib/python3.6/dist-packages (from pandas->fastai==1.0.52.dev0) (2018.9)\n",
            "Requirement already satisfied: six in /usr/local/lib/python3.6/dist-packages (from packaging->fastai==1.0.52.dev0) (1.12.0)\n",
            "Requirement already satisfied: olefile in /usr/local/lib/python3.6/dist-packages (from Pillow->fastai==1.0.52.dev0) (0.46)\n",
            "Requirement already satisfied: urllib3<1.25,>=1.21.1 in /usr/local/lib/python3.6/dist-packages (from requests->fastai==1.0.52.dev0) (1.24.2)\n",
            "Requirement already satisfied: chardet<3.1.0,>=3.0.2 in /usr/local/lib/python3.6/dist-packages (from requests->fastai==1.0.52.dev0) (3.0.4)\n",
            "Requirement already satisfied: idna<2.9,>=2.5 in /usr/local/lib/python3.6/dist-packages (from requests->fastai==1.0.52.dev0) (2.8)\n",
            "Requirement already satisfied: certifi>=2017.4.17 in /usr/local/lib/python3.6/dist-packages (from requests->fastai==1.0.52.dev0) (2019.3.9)\n",
            "Requirement already satisfied: dill<0.3,>=0.2 in /usr/local/lib/python3.6/dist-packages (from spacy>=2.0.18->fastai==1.0.52.dev0) (0.2.9)\n",
            "Requirement already satisfied: murmurhash<1.1.0,>=0.28.0 in /usr/local/lib/python3.6/dist-packages (from spacy>=2.0.18->fastai==1.0.52.dev0) (1.0.2)\n",
            "Requirement already satisfied: ujson>=1.35 in /usr/local/lib/python3.6/dist-packages (from spacy>=2.0.18->fastai==1.0.52.dev0) (1.35)\n",
            "Requirement already satisfied: regex==2018.01.10 in /usr/local/lib/python3.6/dist-packages (from spacy>=2.0.18->fastai==1.0.52.dev0) (2018.1.10)\n",
            "Requirement already satisfied: plac<1.0.0,>=0.9.6 in /usr/local/lib/python3.6/dist-packages (from spacy>=2.0.18->fastai==1.0.52.dev0) (0.9.6)\n",
            "Requirement already satisfied: preshed<2.1.0,>=2.0.1 in /usr/local/lib/python3.6/dist-packages (from spacy>=2.0.18->fastai==1.0.52.dev0) (2.0.1)\n",
            "Requirement already satisfied: cymem<2.1.0,>=2.0.2 in /usr/local/lib/python3.6/dist-packages (from spacy>=2.0.18->fastai==1.0.52.dev0) (2.0.2)\n",
            "Requirement already satisfied: thinc<6.13.0,>=6.12.1 in /usr/local/lib/python3.6/dist-packages (from spacy>=2.0.18->fastai==1.0.52.dev0) (6.12.1)\n",
            "Requirement already satisfied: setuptools in /usr/local/lib/python3.6/dist-packages (from kiwisolver>=1.0.1->matplotlib->fastai==1.0.52.dev0) (40.9.0)\n",
            "Requirement already satisfied: tqdm<5.0.0,>=4.10.0 in /usr/local/lib/python3.6/dist-packages (from thinc<6.13.0,>=6.12.1->spacy>=2.0.18->fastai==1.0.52.dev0) (4.28.1)\n",
            "Requirement already satisfied: msgpack<0.6.0,>=0.5.6 in /usr/local/lib/python3.6/dist-packages (from thinc<6.13.0,>=6.12.1->spacy>=2.0.18->fastai==1.0.52.dev0) (0.5.6)\n",
            "Requirement already satisfied: cytoolz<0.10,>=0.9.0 in /usr/local/lib/python3.6/dist-packages (from thinc<6.13.0,>=6.12.1->spacy>=2.0.18->fastai==1.0.52.dev0) (0.9.0.1)\n",
            "Requirement already satisfied: wrapt<1.11.0,>=1.10.0 in /usr/local/lib/python3.6/dist-packages (from thinc<6.13.0,>=6.12.1->spacy>=2.0.18->fastai==1.0.52.dev0) (1.10.11)\n",
            "Requirement already satisfied: msgpack-numpy<0.4.4 in /usr/local/lib/python3.6/dist-packages (from thinc<6.13.0,>=6.12.1->spacy>=2.0.18->fastai==1.0.52.dev0) (0.4.3.2)\n",
            "Requirement already satisfied: toolz>=0.8.0 in /usr/local/lib/python3.6/dist-packages (from cytoolz<0.10,>=0.9.0->thinc<6.13.0,>=6.12.1->spacy>=2.0.18->fastai==1.0.52.dev0) (0.9.0)\n",
            "Building wheels for collected packages: fastai\n",
            "  Building wheel for fastai (setup.py) ... \u001b[?25ldone\n",
            "\u001b[?25h  Stored in directory: /tmp/pip-ephem-wheel-cache-io78l5u3/wheels/cf/46/39/b2d08762125ed2376861976ab2c4ac30c029b86e375735d9b8\n",
            "Successfully built fastai\n",
            "Installing collected packages: fastai\n",
            "  Found existing installation: fastai 1.0.51\n",
            "    Uninstalling fastai-1.0.51:\n",
            "      Successfully uninstalled fastai-1.0.51\n",
            "Successfully installed fastai-1.0.52.dev0\n",
            "  % Total    % Received % Xferd  Average Speed   Time    Time     Time  Current\n",
            "                                 Dload  Upload   Total   Spent    Left  Speed\n",
            "100  114k  100  114k    0     0   519k      0 --:--:-- --:--:-- --:--:--  519k\n"
          ],
          "name": "stdout"
        }
      ]
    },
    {
      "metadata": {
        "id": "wWPdgpNZbMuK",
        "colab_type": "code",
        "colab": {}
      },
      "cell_type": "code",
      "source": [
        "#!/bin/bash\n",
        "# !mkdir numbers\n",
        "# !mkdir numbers/0\n",
        "# !mkdir numbers/1\n",
        "# !mkdir numbers/2\n",
        "# !mkdir numbers/3\n",
        "# !mkdir numbers/4\n",
        "# !mkdir numbers/5\n",
        "# !mkdir numbers/6\n",
        "# !mkdir numbers/7\n",
        "# !mkdir numbers/8\n",
        "# !mkdir numbers/9\n",
        "!mkdir captchas\n",
        "!mkdir images\n",
        "!mkdir captchas/fragments"
      ],
      "execution_count": 0,
      "outputs": []
    },
    {
      "metadata": {
        "id": "SN-0LdiVdXPZ",
        "colab_type": "code",
        "outputId": "6ac54182-6eae-4109-8378-1cc488ff5770",
        "colab": {
          "base_uri": "https://localhost:8080/",
          "height": 34
        }
      },
      "cell_type": "code",
      "source": [
        "!rm captchas/*"
      ],
      "execution_count": 7,
      "outputs": [
        {
          "output_type": "stream",
          "text": [
            "rm: cannot remove 'captchas/fragments': Is a directory\n"
          ],
          "name": "stdout"
        }
      ]
    },
    {
      "metadata": {
        "id": "2FYYb9GK8D1v",
        "colab_type": "code",
        "outputId": "0ca5ec3c-1435-4d30-aa50-784995b5a12c",
        "colab": {
          "base_uri": "https://localhost:8080/",
          "height": 34
        }
      },
      "cell_type": "code",
      "source": [
        "from claptcha import Claptcha\n",
        "from random import choice\n",
        "from string import ascii_uppercase\n",
        "from string import digits\n",
        "import matplotlib.pyplot as plt\n",
        "import matplotlib.image as mpimg\n",
        "import re\n",
        "import os\n",
        "import sys\n",
        "import urllib.request\n",
        "from fastai.vision import *\n",
        "from fastai.imports import *\n",
        "from sklearn.utils import shuffle\n",
        "import imageio\n",
        "from PIL import Image\n",
        "\n",
        "print(\"done!\")"
      ],
      "execution_count": 8,
      "outputs": [
        {
          "output_type": "stream",
          "text": [
            "done!\n"
          ],
          "name": "stdout"
        }
      ]
    },
    {
      "metadata": {
        "id": "7FJaWDl5bIXp",
        "colab_type": "code",
        "colab": {}
      },
      "cell_type": "code",
      "source": [
        "captchasDir = 'captchas/'\n",
        "imgXorigin = 200\n",
        "imgYorigin = 80\n",
        "offset = 15\n",
        "imgX = imgXorigin - (2 * offset)\n",
        "imgY = imgYorigin\n",
        "captchaLength = 5\n",
        "captchaAmount = 2000"
      ],
      "execution_count": 0,
      "outputs": []
    },
    {
      "metadata": {
        "id": "yTVyllgzbEcX",
        "colab_type": "code",
        "colab": {}
      },
      "cell_type": "code",
      "source": [
        "\n",
        "def generateRandString(length):\n",
        "    # return ''.join(choice(ascii_uppercase) for i in range(length))\n",
        "    return ''.join(choice(digits) for i in range(length))\n",
        "\n",
        "\n",
        "def generateCaptcha(input):\n",
        "    c = Claptcha(str(input), \"DroidSansMono.ttf\")\n",
        "    text, image = c.image\n",
        "    text, bytes = c.bytes\n",
        "    text, file = c.write('captchas/' + str(input) + '.png')\n",
        "    return\n",
        "\n",
        "\n",
        "def generateCaptchaFamily(amount, length):\n",
        "    i = 0\n",
        "    print('generating ' + str(amount) + ' test files ...')\n",
        "    while i < amount:\n",
        "        i += 1\n",
        "        print(str(i/amount*100) + ' % complete' , end='')\n",
        "        print(str, end='\\r') \n",
        "        sys.stdout.flush()\n",
        "        randString = generateRandString(length)\n",
        "        generateCaptcha(randString)\n",
        "\n",
        "\n",
        "def generateTestFiles():\n",
        "    i = 0\n",
        "    amountFiles = 100\n",
        "    while i < amountFiles:\n",
        "        i += 1\n",
        "        randString = generateRandString(captchaLength)\n",
        "        try:\n",
        "            generateCaptcha(randString)\n",
        "            print(str(i) + '/' + str(amountFiles) + ' files generated')\n",
        "            \n",
        "        except:\n",
        "            print('error while generating captcha')\n",
        "\n",
        "\n",
        "def crop(image_path, coords, img_name):\n",
        "    image_obj = Image.open(image_path)\n",
        "    cropped_image = image_obj.crop(coords)\n",
        "    cropped_image.save(img_name)\n",
        "    # cropped_image.show()\n",
        "\n",
        "\n",
        "def extracktNumbersFromImage(image, number):\n",
        "    digits = [int(d) for d in str(number)]\n",
        "    crop(image, (offset, 0, imgXorigin - offset, imgYorigin), 'test_img.png')\n",
        "\n",
        "    for (key, digit) in enumerate(digits):\n",
        "        startX = (imgX / captchaLength) * key\n",
        "        cutoffX = (imgX / captchaLength) * (key + 1)\n",
        "        savePath = './numbers/' + str(digit) + '/'\n",
        "        savePath = './images/'\n",
        "        path, dirs, files = next(os.walk(savePath))\n",
        "        file_count = len(files)\n",
        "        crop('test_img.png', (startX, 0, cutoffX, imgY), savePath + '/' + str(digit) + '_' + str(file_count + 10000) + '.png')\n",
        "\n",
        "\n",
        "def generateNumbers():\n",
        "    path, dirs, files = next(os.walk(captchasDir))\n",
        "    for file in files:\n",
        "        numberString = str(file.title()[:captchaLength])\n",
        "        filePath = str(captchasDir + file.format())\n",
        "\n",
        "        if not file.startswith('.'):\n",
        "            print(numberString)\n",
        "            print(filePath)\n",
        "            \n",
        "            extracktNumbersFromImage(filePath, numberString)\n",
        "\n",
        "                       \n",
        "\n",
        "def getStarted():\n",
        "    # 10000 test files work perfectly fine\n",
        "    # 1000 is works barely with some errors\n",
        "    print(\"size of training batch is \" + str(captchaAmount * captchaLength))\n",
        "    generateCaptchaFamily(captchaAmount, captchaLength)\n",
        "    generateNumbers()\n",
        "\n",
        "# generateNumbers()\n",
        "getStarted()"
      ],
      "execution_count": 0,
      "outputs": []
    },
    {
      "metadata": {
        "id": "YdpQzlo13AWH",
        "colab_type": "code",
        "colab": {
          "base_uri": "https://localhost:8080/",
          "height": 34
        },
        "outputId": "6cfb73f0-d4a5-4c51-f54b-9f0d5b569a71"
      },
      "cell_type": "code",
      "source": [
        "# !rm ./images/*\n",
        "\n",
        "!ls ./captchas | wc -l\n"
      ],
      "execution_count": 11,
      "outputs": [
        {
          "output_type": "stream",
          "text": [
            "1987\n"
          ],
          "name": "stdout"
        }
      ]
    },
    {
      "metadata": {
        "id": "pdz8E4hLbF_Z",
        "colab_type": "code",
        "colab": {
          "base_uri": "https://localhost:8080/",
          "height": 187
        },
        "outputId": "daf37e47-ab30-44cb-ac94-398142ecdb1a"
      },
      "cell_type": "code",
      "source": [
        "! ls ./images/ | head -10"
      ],
      "execution_count": 13,
      "outputs": [
        {
          "output_type": "stream",
          "text": [
            "0_10018.png\n",
            "0_10028.png\n",
            "0_10034.png\n",
            "0_10037.png\n",
            "0_10046.png\n",
            "0_10077.png\n",
            "0_10078.png\n",
            "0_10082.png\n",
            "0_10087.png\n",
            "0_10098.png\n"
          ],
          "name": "stdout"
        }
      ]
    },
    {
      "metadata": {
        "id": "ewdlZiXS6EPD",
        "colab_type": "code",
        "colab": {
          "base_uri": "https://localhost:8080/",
          "height": 269
        },
        "outputId": "3de146ad-b757-4006-a262-0ee7ddb05782"
      },
      "cell_type": "code",
      "source": [
        "plt.imshow(imageio.imread(\"./images/0_10018.png\"))\n",
        "plt.show()"
      ],
      "execution_count": 14,
      "outputs": [
        {
          "output_type": "display_data",
          "data": {
            "image/png": "[encoded data removed]",
            "text/plain": [
              "<Figure size 432x288 with 1 Axes>"
            ]
          },
          "metadata": {
            "tags": []
          }
        }
      ]
    },
    {
      "metadata": {
        "id": "r8ViiR0O4RRh",
        "colab_type": "code",
        "colab": {}
      },
      "cell_type": "code",
      "source": [
        "fnames = get_image_files(\"./images\")\n",
        "pat = r'/([^/]+)_\\d+.png$'\n",
        "tfms = get_transforms(do_flip=False)"
      ],
      "execution_count": 0,
      "outputs": []
    },
    {
      "metadata": {
        "id": "jRyXEP934T5X",
        "colab_type": "code",
        "colab": {
          "base_uri": "https://localhost:8080/",
          "height": 306
        },
        "outputId": "77b9246e-7503-4c92-fc71-93518a6f1425"
      },
      "cell_type": "code",
      "source": [
        "data = ImageDataBunch.from_name_re(\"./images\", fnames, pat, ds_tfms=tfms)\n",
        "data.normalize(imagenet_stats)"
      ],
      "execution_count": 16,
      "outputs": [
        {
          "output_type": "execute_result",
          "data": {
            "text/plain": [
              "ImageDataBunch;\n",
              "\n",
              "Train: LabelList (7944 items)\n",
              "x: ImageList\n",
              "Image (3, 80, 34),Image (3, 80, 34),Image (3, 80, 34),Image (3, 80, 34),Image (3, 80, 34)\n",
              "y: CategoryList\n",
              "7,5,1,3,9\n",
              "Path: images;\n",
              "\n",
              "Valid: LabelList (1986 items)\n",
              "x: ImageList\n",
              "Image (3, 80, 34),Image (3, 80, 34),Image (3, 80, 34),Image (3, 80, 34),Image (3, 80, 34)\n",
              "y: CategoryList\n",
              "2,8,9,0,0\n",
              "Path: images;\n",
              "\n",
              "Test: None"
            ]
          },
          "metadata": {
            "tags": []
          },
          "execution_count": 16
        }
      ]
    },
    {
      "metadata": {
        "id": "KYhDXIiS4dNv",
        "colab_type": "code",
        "colab": {
          "base_uri": "https://localhost:8080/",
          "height": 441
        },
        "outputId": "39060d2b-bac8-400c-8084-0047d24f59b1"
      },
      "cell_type": "code",
      "source": [
        "data.show_batch(rows=3, figsize=(7,6))"
      ],
      "execution_count": 17,
      "outputs": [
        {
          "output_type": "display_data",
          "data": {
            "image/png": "[encoded data removed]",
            "text/plain": [
              "<Figure size 504x432 with 9 Axes>"
            ]
          },
          "metadata": {
            "tags": []
          }
        }
      ]
    },
    {
      "metadata": {
        "id": "JHQvX5h_4iB7",
        "colab_type": "code",
        "colab": {
          "base_uri": "https://localhost:8080/",
          "height": 34
        },
        "outputId": "709a0309-bcb4-4fa2-8a8c-4510d0aca763"
      },
      "cell_type": "code",
      "source": [
        "data.classes"
      ],
      "execution_count": 18,
      "outputs": [
        {
          "output_type": "execute_result",
          "data": {
            "text/plain": [
              "['0', '1', '2', '3', '4', '5', '6', '7', '8', '9']"
            ]
          },
          "metadata": {
            "tags": []
          },
          "execution_count": 18
        }
      ]
    },
    {
      "metadata": {
        "id": "HDVwPJyl4lUm",
        "colab_type": "code",
        "colab": {
          "base_uri": "https://localhost:8080/",
          "height": 71
        },
        "outputId": "d577cedc-cd49-44ac-e6af-637035faf402"
      },
      "cell_type": "code",
      "source": [
        "learn = cnn_learner(data, models.resnet18, metrics=error_rate)"
      ],
      "execution_count": 19,
      "outputs": [
        {
          "output_type": "stream",
          "text": [
            "Downloading: \"https://download.pytorch.org/models/resnet18-5c106cde.pth\" to /root/.torch/models/resnet18-5c106cde.pth\n",
            "46827520it [00:00, 81229728.92it/s]\n"
          ],
          "name": "stderr"
        }
      ]
    },
    {
      "metadata": {
        "id": "6gz1OBU94n9O",
        "colab_type": "code",
        "colab": {
          "base_uri": "https://localhost:8080/",
          "height": 80
        },
        "outputId": "4eb268ff-1b68-40a0-f353-d8df09d5913a"
      },
      "cell_type": "code",
      "source": [
        "learn.fit_one_cycle(1)"
      ],
      "execution_count": 20,
      "outputs": [
        {
          "output_type": "display_data",
          "data": {
            "text/html": [
              "<table border=\"1\" class=\"dataframe\">\n",
              "  <thead>\n",
              "    <tr style=\"text-align: left;\">\n",
              "      <th>epoch</th>\n",
              "      <th>train_loss</th>\n",
              "      <th>valid_loss</th>\n",
              "      <th>error_rate</th>\n",
              "      <th>time</th>\n",
              "    </tr>\n",
              "  </thead>\n",
              "  <tbody>\n",
              "    <tr>\n",
              "      <td>0</td>\n",
              "      <td>1.084208</td>\n",
              "      <td>0.717856</td>\n",
              "      <td>0.243202</td>\n",
              "      <td>00:11</td>\n",
              "    </tr>\n",
              "  </tbody>\n",
              "</table>"
            ],
            "text/plain": [
              "<IPython.core.display.HTML object>"
            ]
          },
          "metadata": {
            "tags": []
          }
        }
      ]
    },
    {
      "metadata": {
        "id": "GPHotDxW4pRg",
        "colab_type": "code",
        "colab": {
          "base_uri": "https://localhost:8080/",
          "height": 300
        },
        "outputId": "5fc7b63a-4ca0-45b5-c6f2-b97e4e5b4315"
      },
      "cell_type": "code",
      "source": [
        "learn.lr_find()\n",
        "learn.recorder.plot()"
      ],
      "execution_count": 21,
      "outputs": [
        {
          "output_type": "display_data",
          "data": {
            "text/html": [
              ""
            ],
            "text/plain": [
              "<IPython.core.display.HTML object>"
            ]
          },
          "metadata": {
            "tags": []
          }
        },
        {
          "output_type": "stream",
          "text": [
            "LR Finder is complete, type {learner_name}.recorder.plot() to see the graph.\n"
          ],
          "name": "stdout"
        },
        {
          "output_type": "display_data",
          "data": {
            "image/png": "[encoded data removed]",
            "text/plain": [
              "<Figure size 432x288 with 1 Axes>"
            ]
          },
          "metadata": {
            "tags": []
          }
        }
      ]
    },
    {
      "metadata": {
        "id": "KQF3LStX4t8Y",
        "colab_type": "code",
        "colab": {
          "base_uri": "https://localhost:8080/",
          "height": 111
        },
        "outputId": "53088112-06dd-4a49-f943-d673d55b2c7b"
      },
      "cell_type": "code",
      "source": [
        "learn.unfreeze()\n",
        "learn.fit_one_cycle(2, max_lr=slice(1e-3,  1e-1))"
      ],
      "execution_count": 22,
      "outputs": [
        {
          "output_type": "display_data",
          "data": {
            "text/html": [
              "<table border=\"1\" class=\"dataframe\">\n",
              "  <thead>\n",
              "    <tr style=\"text-align: left;\">\n",
              "      <th>epoch</th>\n",
              "      <th>train_loss</th>\n",
              "      <th>valid_loss</th>\n",
              "      <th>error_rate</th>\n",
              "      <th>time</th>\n",
              "    </tr>\n",
              "  </thead>\n",
              "  <tbody>\n",
              "    <tr>\n",
              "      <td>0</td>\n",
              "      <td>1.163147</td>\n",
              "      <td>8.190527</td>\n",
              "      <td>0.297080</td>\n",
              "      <td>00:13</td>\n",
              "    </tr>\n",
              "    <tr>\n",
              "      <td>1</td>\n",
              "      <td>0.304944</td>\n",
              "      <td>0.039221</td>\n",
              "      <td>0.004532</td>\n",
              "      <td>00:14</td>\n",
              "    </tr>\n",
              "  </tbody>\n",
              "</table>"
            ],
            "text/plain": [
              "<IPython.core.display.HTML object>"
            ]
          },
          "metadata": {
            "tags": []
          }
        }
      ]
    },
    {
      "metadata": {
        "id": "Cirueht45WDy",
        "colab_type": "code",
        "colab": {
          "base_uri": "https://localhost:8080/",
          "height": 142
        },
        "outputId": "632ada10-bf07-41d4-c5f0-ea45a489ede6"
      },
      "cell_type": "code",
      "source": [
        "learn.fit_one_cycle(3, max_lr=slice(1e-6,  1e-3))"
      ],
      "execution_count": 23,
      "outputs": [
        {
          "output_type": "display_data",
          "data": {
            "text/html": [
              "<table border=\"1\" class=\"dataframe\">\n",
              "  <thead>\n",
              "    <tr style=\"text-align: left;\">\n",
              "      <th>epoch</th>\n",
              "      <th>train_loss</th>\n",
              "      <th>valid_loss</th>\n",
              "      <th>error_rate</th>\n",
              "      <th>time</th>\n",
              "    </tr>\n",
              "  </thead>\n",
              "  <tbody>\n",
              "    <tr>\n",
              "      <td>0</td>\n",
              "      <td>0.096878</td>\n",
              "      <td>0.033742</td>\n",
              "      <td>0.005035</td>\n",
              "      <td>00:11</td>\n",
              "    </tr>\n",
              "    <tr>\n",
              "      <td>1</td>\n",
              "      <td>0.100951</td>\n",
              "      <td>0.032662</td>\n",
              "      <td>0.005035</td>\n",
              "      <td>00:11</td>\n",
              "    </tr>\n",
              "    <tr>\n",
              "      <td>2</td>\n",
              "      <td>0.106147</td>\n",
              "      <td>0.033068</td>\n",
              "      <td>0.006042</td>\n",
              "      <td>00:11</td>\n",
              "    </tr>\n",
              "  </tbody>\n",
              "</table>"
            ],
            "text/plain": [
              "<IPython.core.display.HTML object>"
            ]
          },
          "metadata": {
            "tags": []
          }
        }
      ]
    },
    {
      "metadata": {
        "id": "GXS0cm_Z5W01",
        "colab_type": "code",
        "colab": {}
      },
      "cell_type": "code",
      "source": [
        "interp=ClassificationInterpretation.from_learner(learn)"
      ],
      "execution_count": 0,
      "outputs": []
    },
    {
      "metadata": {
        "id": "RVA19xKG5Ykg",
        "colab_type": "code",
        "colab": {
          "base_uri": "https://localhost:8080/",
          "height": 663
        },
        "outputId": "e39fbf9c-3e6b-4f2c-cdee-8f359e76fb35"
      },
      "cell_type": "code",
      "source": [
        "interp.plot_top_losses(9, figsize=(10, 10))"
      ],
      "execution_count": 25,
      "outputs": [
        {
          "output_type": "display_data",
          "data": {
            "image/png": "[encoded data removed]",
            "text/plain": [
              "<Figure size 720x720 with 9 Axes>"
            ]
          },
          "metadata": {
            "tags": []
          }
        }
      ]
    },
    {
      "metadata": {
        "id": "Ikcv5LYf6WcN",
        "colab_type": "code",
        "colab": {
          "base_uri": "https://localhost:8080/",
          "height": 311
        },
        "outputId": "14a3a6cd-5df2-400c-a899-e233d09a4845"
      },
      "cell_type": "code",
      "source": [
        "interp.plot_confusion_matrix()"
      ],
      "execution_count": 26,
      "outputs": [
        {
          "output_type": "display_data",
          "data": {
            "image/png": "[encoded data removed]",
            "text/plain": [
              "<Figure size 432x288 with 1 Axes>"
            ]
          },
          "metadata": {
            "tags": []
          }
        }
      ]
    },
    {
      "metadata": {
        "id": "X5Fb6UwzLirD",
        "colab_type": "code",
        "colab": {
          "base_uri": "https://localhost:8080/",
          "height": 102
        },
        "outputId": "77e3e3bb-edf3-49c1-a1a6-81c91c60b7b8"
      },
      "cell_type": "code",
      "source": [
        "### test captchas\n",
        "#!rm captchas/*\n",
        "#!mkdir captchas/fragments\n",
        "!rm captchas/fragments/*\n",
        "\n",
        "\n",
        "captchasDir = 'captchas/'\n",
        "imgXorigin = 200\n",
        "imgYorigin = 80\n",
        "offset = 15\n",
        "imgX = imgXorigin - (2 * offset)\n",
        "imgY = imgYorigin\n",
        "captchaLength = 5\n",
        "\n",
        "\n",
        "def crop(image_path, coords, img_name):\n",
        "    image_obj = Image.open(image_path)\n",
        "    cropped_image = image_obj.crop(coords)\n",
        "    cropped_image.save(img_name)\n",
        "    # cropped_image.show()\n",
        "\n",
        "\n",
        "def extracktFragmentsFromImage(image):\n",
        "    crop(image, (offset, 0, imgXorigin - offset, imgYorigin), 'test_img.png')\n",
        "    for element in range(5):\n",
        "        startX = (imgX / captchaLength) * element\n",
        "        cutoffX = (imgX / captchaLength) * (element + 1)\n",
        "        savePath = './captchas/fragments/'\n",
        "        path, dirs, files = next(os.walk(savePath))\n",
        "        file_count = len(files)\n",
        "        crop('test_img.png', (startX, 0, cutoffX, imgY), savePath + 'img_' + str(element) + '.png')\n",
        "\n",
        "\n",
        "def decryptFragments():\n",
        "    for file in sorted(os.listdir(\"./captchas/fragments/\")):\n",
        "      preds=learn.predict(open_image(\"./captchas/fragments/\" + file))\n",
        "      print(preds[0])\n",
        "      # now decrypt file\n",
        "\n",
        "def decryptCaptcha(filepath):\n",
        "  extracktFragmentsFromImage(filepath)\n",
        "  decryptFragments()\n",
        "  \n",
        "\n",
        "  \n",
        "  \n",
        "\n",
        "# captchaCode = 30012 #has to have five digits\n",
        "# generateCaptcha(captchaCode)\n",
        "# decryptCaptcha('./captchas/' + str(captchaCode) + '.png')\n",
        "\n",
        "# decrypt captcha from URL\n",
        "urllib.request.urlretrieve(\"https://inprocess.xyz/captchas/7248880635359826870.png\", \"test_file.png\")\n",
        "decryptCaptcha('./test_file.png')\n",
        "\n",
        "\n",
        "\n",
        "# some test files are on https://inprocess.xyz/captchas\n"
      ],
      "execution_count": 30,
      "outputs": [
        {
          "output_type": "stream",
          "text": [
            "3\n",
            "6\n",
            "7\n",
            "1\n",
            "0\n"
          ],
          "name": "stdout"
        }
      ]
    }
  ]
}